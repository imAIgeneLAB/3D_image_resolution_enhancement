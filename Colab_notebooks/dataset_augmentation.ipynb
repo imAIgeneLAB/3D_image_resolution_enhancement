{
  "cells": [
    {
      "cell_type": "markdown",
      "metadata": {
        "id": "V9zNGvape2-I"
      },
      "source": [
        "# **Dataset augmentation**\n",
        "\n",
        "---\n",
        "\n",
        "<font size = 4>To train a CARE (3D) model, we will need to have a dataset with enough images to avoid overfitting. If the original number of images is low, we will have to increase the dataset virtually. In this notebook there are 3 functions to augment the source (low resolution) and target (high resolution) images of the dataset by adding brightness, Gaussian noise and then rotate and flip each bright or noisy image. This way we will have a 9 times larger dataset."
      ]
    },
    {
      "cell_type": "markdown",
      "metadata": {
        "id": "n4yWFoJNnoin"
      },
      "source": [
        "## **1. Dependencies**\n",
        "---\n"
      ]
    },
    {
      "cell_type": "markdown",
      "metadata": {
        "id": "ohimRYp7UOv-"
      },
      "source": [
        "### **1.1. Install dependencies**\n",
        "---\n",
        "<font size = 4>"
      ]
    },
    {
      "cell_type": "code",
      "source": [
        "#@markdown ##Install dependencies\n",
        "! pip install -q readlif\n",
        "! pip install -q SimpleITK\n",
        "! pip install -q aicsimageio"
      ],
      "metadata": {
        "id": "E77RFww0Io8C",
        "cellView": "form",
        "colab": {
          "base_uri": "https://localhost:8080/"
        },
        "outputId": "ff14ad3a-b03e-4a8c-e453-25d5fa3b87f2"
      },
      "execution_count": 1,
      "outputs": [
        {
          "output_type": "stream",
          "name": "stdout",
          "text": [
            "\u001b[2K     \u001b[90m━━━━━━━━━━━━━━━━━━━━━━━━━━━━━━━━━━━━━━━━\u001b[0m \u001b[32m52.7/52.7 MB\u001b[0m \u001b[31m18.8 MB/s\u001b[0m eta \u001b[36m0:00:00\u001b[0m\n",
            "\u001b[2K     \u001b[90m━━━━━━━━━━━━━━━━━━━━━━━━━━━━━━━━━━━━━━━━\u001b[0m \u001b[32m138.7/138.7 kB\u001b[0m \u001b[31m3.6 MB/s\u001b[0m eta \u001b[36m0:00:00\u001b[0m\n",
            "\u001b[2K     \u001b[90m━━━━━━━━━━━━━━━━━━━━━━━━━━━━━━━━━━━━━━━━\u001b[0m \u001b[32m39.6/39.6 MB\u001b[0m \u001b[31m28.5 MB/s\u001b[0m eta \u001b[36m0:00:00\u001b[0m\n",
            "\u001b[2K     \u001b[90m━━━━━━━━━━━━━━━━━━━━━━━━━━━━━━━━━━━━━━━━\u001b[0m \u001b[32m248.4/248.4 kB\u001b[0m \u001b[31m25.1 MB/s\u001b[0m eta \u001b[36m0:00:00\u001b[0m\n",
            "\u001b[2K     \u001b[90m━━━━━━━━━━━━━━━━━━━━━━━━━━━━━━━━━━━━━━━━\u001b[0m \u001b[32m216.4/216.4 kB\u001b[0m \u001b[31m22.2 MB/s\u001b[0m eta \u001b[36m0:00:00\u001b[0m\n",
            "\u001b[2K     \u001b[90m━━━━━━━━━━━━━━━━━━━━━━━━━━━━━━━━━━━━━━━━\u001b[0m \u001b[32m405.2/405.2 kB\u001b[0m \u001b[31m36.4 MB/s\u001b[0m eta \u001b[36m0:00:00\u001b[0m\n",
            "\u001b[2K     \u001b[90m━━━━━━━━━━━━━━━━━━━━━━━━━━━━━━━━━━━━━━━━\u001b[0m \u001b[32m206.1/206.1 kB\u001b[0m \u001b[31m23.4 MB/s\u001b[0m eta \u001b[36m0:00:00\u001b[0m\n",
            "\u001b[2K     \u001b[90m━━━━━━━━━━━━━━━━━━━━━━━━━━━━━━━━━━━━━━━━\u001b[0m \u001b[32m195.1/195.1 kB\u001b[0m \u001b[31m21.1 MB/s\u001b[0m eta \u001b[36m0:00:00\u001b[0m\n",
            "\u001b[?25h  Preparing metadata (setup.py) ... \u001b[?25l\u001b[?25hdone\n",
            "\u001b[2K     \u001b[90m━━━━━━━━━━━━━━━━━━━━━━━━━━━━━━━━━━━━━━━━\u001b[0m \u001b[32m7.7/7.7 MB\u001b[0m \u001b[31m64.4 MB/s\u001b[0m eta \u001b[36m0:00:00\u001b[0m\n",
            "\u001b[2K     \u001b[90m━━━━━━━━━━━━━━━━━━━━━━━━━━━━━━━━━━━━━━━━\u001b[0m \u001b[32m216.4/216.4 kB\u001b[0m \u001b[31m24.0 MB/s\u001b[0m eta \u001b[36m0:00:00\u001b[0m\n",
            "\u001b[2K     \u001b[90m━━━━━━━━━━━━━━━━━━━━━━━━━━━━━━━━━━━━━━━━\u001b[0m \u001b[32m76.1/76.1 kB\u001b[0m \u001b[31m5.1 MB/s\u001b[0m eta \u001b[36m0:00:00\u001b[0m\n",
            "\u001b[2K     \u001b[90m━━━━━━━━━━━━━━━━━━━━━━━━━━━━━━━━━━━━━━━━\u001b[0m \u001b[32m73.5/73.5 kB\u001b[0m \u001b[31m9.0 MB/s\u001b[0m eta \u001b[36m0:00:00\u001b[0m\n",
            "\u001b[2K     \u001b[90m━━━━━━━━━━━━━━━━━━━━━━━━━━━━━━━━━━━━━━━━\u001b[0m \u001b[32m73.4/73.4 kB\u001b[0m \u001b[31m7.8 MB/s\u001b[0m eta \u001b[36m0:00:00\u001b[0m\n",
            "\u001b[2K     \u001b[90m━━━━━━━━━━━━━━━━━━━━━━━━━━━━━━━━━━━━━━━━\u001b[0m \u001b[32m11.1/11.1 MB\u001b[0m \u001b[31m68.8 MB/s\u001b[0m eta \u001b[36m0:00:00\u001b[0m\n",
            "\u001b[2K     \u001b[90m━━━━━━━━━━━━━━━━━━━━━━━━━━━━━━━━━━━━━━━━\u001b[0m \u001b[32m143.8/143.8 kB\u001b[0m \u001b[31m14.8 MB/s\u001b[0m eta \u001b[36m0:00:00\u001b[0m\n",
            "\u001b[?25h  Building wheel for asciitree (setup.py) ... \u001b[?25l\u001b[?25hdone\n"
          ]
        }
      ]
    },
    {
      "cell_type": "markdown",
      "metadata": {
        "id": "GV9Saw1JUVVP"
      },
      "source": [
        "### **1.2. Load key dependencies**\n",
        "---\n",
        "<font size = 4>"
      ]
    },
    {
      "cell_type": "code",
      "source": [
        "#@markdown ##Load dependencies\n",
        "\n",
        "from readlif.reader import LifFile\n",
        "import numpy as np\n",
        "import tifffile as tf\n",
        "import os\n",
        "import SimpleITK as sitk\n",
        "from aicsimageio import AICSImage\n",
        "import shutil\n",
        "from skimage import io, img_as_uint, exposure\n",
        "from skimage.util import random_noise\n",
        "import xml.etree.ElementTree as ET\n",
        "import ipywidgets as widgets\n",
        "from IPython.display import display"
      ],
      "metadata": {
        "id": "gx9eFbcuIXYh",
        "cellView": "form"
      },
      "execution_count": 2,
      "outputs": []
    },
    {
      "cell_type": "markdown",
      "metadata": {
        "id": "b4-r1gE7Iamv"
      },
      "source": [
        "## **2. Initialise the Colab session**\n",
        "---"
      ]
    },
    {
      "cell_type": "markdown",
      "metadata": {
        "id": "-oqBTeLaImnU"
      },
      "source": [
        "### **2.1. Mount your Google Drive**\n",
        "---\n",
        "<font size = 4> To use this notebook on the data present in your Google Drive, you need to mount your Google Drive to this notebook.\n",
        "\n",
        "<font size = 4> Play the cell below to mount your Google Drive and follow the link. In the new browser window, select your drive and select 'Allow', copy the code, paste into the cell and press enter. This will give Colab access to the data on the drive.\n",
        "\n",
        "<font size = 4> Once this is done, your data are available in the **Files** tab on the top left of notebook."
      ]
    },
    {
      "cell_type": "code",
      "execution_count": 3,
      "metadata": {
        "cellView": "form",
        "id": "01Djr8v-5pPk",
        "colab": {
          "base_uri": "https://localhost:8080/"
        },
        "outputId": "b928149a-cfef-4ca1-a7d0-d848b47ed9e2"
      },
      "outputs": [
        {
          "output_type": "stream",
          "name": "stdout",
          "text": [
            "Mounted at /content/gdrive\n"
          ]
        }
      ],
      "source": [
        "#@markdown ##Play the cell to connect your Google Drive to Colab\n",
        "\n",
        "#@markdown * Follow the instructions.\n",
        "\n",
        "#@markdown * Click on \"Files\" site on the right. Refresh the site. Your Google Drive folder should now be available here as \"drive\".\n",
        "\n",
        "# mount user's Google Drive to Google Colab.\n",
        "from google.colab import drive\n",
        "drive.mount('/content/gdrive')"
      ]
    },
    {
      "cell_type": "markdown",
      "metadata": {
        "id": "DvuiNvCbbeKN"
      },
      "source": [
        "**<font size = 4> If you cannot see your files, reactivate your session by connecting to your hosted runtime.**\n",
        "\n",
        "\n",
        "<img width=\"40%\" alt =\"Example of image detection with retinanet.\" src=\"https://github.com/HenriquesLab/ZeroCostDL4Mic/raw/master/Wiki_files/connect_to_hosted.png\"><figcaption> Connect to a hosted runtime. </figcaption>"
      ]
    },
    {
      "cell_type": "markdown",
      "metadata": {
        "id": "Fw0kkTU6CsU4"
      },
      "source": [
        "## **3. Select your paths**\n",
        "\n",
        "---\n"
      ]
    },
    {
      "cell_type": "markdown",
      "metadata": {
        "id": "CB6acvUFtWqd"
      },
      "source": [
        "<font size = 4> **Path and folders of the input images**\n",
        "\n",
        "<font size = 4>**`base_path`:** this is the folder path were the folders with the high-resolution images an low-resolution images in '.tiff' format are located in your google drive\n",
        "\n",
        "<font size = 4>**`input_folder_down`:** this is the source (low-resolution) images folder **name**,and where the output will be saved.\n",
        "\n",
        "<font size = 4>**`input_folder_up`:** this is the target (hight-resolution) images folder **name**, and where the output will be saved.\n",
        "\n",
        "\n",
        " To find the paths, go to your Files on the left of the notebook, navigate to the folders containing your files and copy the path by right-clicking on the folder, **Copy path** and pasting it into the right box below.\n"
      ]
    },
    {
      "cell_type": "code",
      "source": [
        "#@markdown ##Base path and input folders names:\n",
        "\n",
        "# base folder\n",
        "base_path = \"/content/gdrive/MyDrive/Colab Notebooks/res\" #@param {type:\"string\"}\n",
        "\n",
        "# low-resolution .tiff images folder name\n",
        "input_folder_down = \"train_down\" #@param {type:\"string\"}\n",
        "\n",
        "# high-resolution .tiff images folder name\n",
        "input_folder_up = \"train_up\" #@param {type:\"string\"}"
      ],
      "metadata": {
        "id": "YZApIvDJBAUd",
        "cellView": "form"
      },
      "execution_count": 4,
      "outputs": []
    },
    {
      "cell_type": "markdown",
      "metadata": {
        "id": "xGcl7WGP4WHt"
      },
      "source": [
        "## **4. Augmentation**\n",
        "---"
      ]
    },
    {
      "cell_type": "markdown",
      "source": [
        "### 4.1. Add Brightness\n",
        "<font size = 4>**`brightness_range`:** this parameter sets the range (<1) for the brightness addition and is used to randomly sample a value within this range. We recommend the following range: 0.7, 0.8. Please use this format when specifying the range. Disregard the red warning message shown below this field."
      ],
      "metadata": {
        "id": "VlrSQkEFqggi"
      }
    },
    {
      "cell_type": "code",
      "source": [
        "#@markdown ### Add Brightness\n",
        "def apply_brightness_to_images(base_path, input_folder_up, input_folder_down, gamma_range):\n",
        "    ''' function that reads imgs from source and target folders, applies a random brightness adjustment,\n",
        "    within the specified range of gamma (gamma >1: img will be darker; gamma <1: img will be brighter),\n",
        "    to each pair of imgs, saves processed imgs into separate output folders,\n",
        "    moves processed imgs back to their original input folders and finally removes intermediate folders'''\n",
        "\n",
        "    # paths\n",
        "    input_path_up = os.path.join(base_path, input_folder_up)\n",
        "    input_path_down = os.path.join(base_path, input_folder_down)\n",
        "\n",
        "    folder_name_up = 'brightness_up'\n",
        "    folder_name_down = 'brightness_down'\n",
        "\n",
        "    output_folder_up = os.path.join(base_path, folder_name_up)\n",
        "    if folder_name_up not in os.listdir(base_path):\n",
        "        os.makedirs(output_folder_up)\n",
        "\n",
        "    output_folder_down = os.path.join(base_path, folder_name_down)\n",
        "    if folder_name_down not in os.listdir(base_path):\n",
        "        os.makedirs(output_folder_down)\n",
        "\n",
        "    # filter files that do not contain 'brightness' or 'noise' in their names\n",
        "    file_list_up = [file for file in os.listdir(input_path_up) if 'brightness' not in file.lower() and 'noise' not in file.lower() and not file.lower().endswith('.ds_store')]\n",
        "    file_list_down = [file for file in os.listdir(input_path_down) if 'brightness' not in file.lower() and 'noise' not in file.lower() and not file.lower().endswith('.ds_store')]\n",
        "\n",
        "    # process source and target imgs in parallel\n",
        "    for image_up, image_down in zip(file_list_up, file_list_down):\n",
        "        # read imgs\n",
        "        img_up = io.imread(os.path.join(input_path_up, image_up))\n",
        "        img_down = io.imread(os.path.join(input_path_down, image_down))\n",
        "\n",
        "        # generate random brightness value within the specified range\n",
        "        brightness = np.random.uniform(gamma_range[0], gamma_range[1])\n",
        "\n",
        "        # apply brightness to imgs\n",
        "        bright_img_up = exposure.adjust_gamma(img_up, gamma=brightness)\n",
        "        bright_img_down = exposure.adjust_gamma(img_down, gamma=brightness)\n",
        "\n",
        "        # convert imgs to uint16 format (16 bits per pixel)\n",
        "        bright_img_up_16bit = img_as_uint(bright_img_up)\n",
        "        bright_img_down_16bit = img_as_uint(bright_img_down)\n",
        "\n",
        "        # output img names\n",
        "        output_image_name_up = f'{os.path.splitext(image_up)[0]}_brightness.tiff'\n",
        "        output_image_name_down = f'{os.path.splitext(image_down)[0]}_brightness.tiff'\n",
        "\n",
        "        # save processed imgs to output folders\n",
        "        io.imsave(os.path.join(output_folder_up, output_image_name_up), bright_img_up_16bit, compression='lzw')\n",
        "        io.imsave(os.path.join(output_folder_down, output_image_name_down), bright_img_down_16bit, compression='lzw')\n",
        "\n",
        "    # move processed imgs to original input folders\n",
        "    for file_up, file_down in zip(os.listdir(output_folder_up), os.listdir(output_folder_down)):\n",
        "        shutil.move(os.path.join(output_folder_up, file_up), os.path.join(input_path_up, file_up))\n",
        "        shutil.move(os.path.join(output_folder_down, file_down), os.path.join(input_path_down, file_down))\n",
        "\n",
        "    # remove intermediate folders\n",
        "    shutil.rmtree(output_folder_up)\n",
        "    shutil.rmtree(output_folder_down)\n",
        "\n",
        "\n",
        "brightness_range = 0.7, 0.8 #@param{type:\"number\"}\n",
        "\n",
        "if brightness_range == None:\n",
        "  print('Please enter a value')\n",
        "else:\n",
        "# call function\n",
        "  apply_brightness_to_images(base_path, input_folder_up, input_folder_down, brightness_range)"
      ],
      "metadata": {
        "id": "q67I3_P3rySh",
        "cellView": "form"
      },
      "execution_count": 6,
      "outputs": []
    },
    {
      "cell_type": "markdown",
      "source": [
        "### 4.2. Add Gaussian noise\n",
        "<font size = 4>**`noise_var_range`:** this parameter sets the range for the noise addition and is used to randomly sample a value within this range. We recommend the following range: 0.001, 0.002. Please use this format when specifying the range. Disregard the red warning message shown below this field."
      ],
      "metadata": {
        "id": "YfB24tb9xpCp"
      }
    },
    {
      "cell_type": "code",
      "source": [
        "#@markdown ### Add Gaussian noise\n",
        "def apply_gaussian_noise_to_images(base_path, input_folder_up, input_folder_down, var_range):\n",
        "    ''' function that reads imgs from the source and target folders, applies Gaussian noise with\n",
        "    a randomly selected variance within the specified range to each pair of images, saves processed\n",
        "    imgs into separate output folders, moves processed imgs back to their original input folders and\n",
        "    finally removes intermediate folders'''\n",
        "\n",
        "    # paths\n",
        "    input_path_up = os.path.join(base_path, input_folder_up)\n",
        "    input_path_down = os.path.join(base_path, input_folder_down)\n",
        "\n",
        "    folder_name_up = 'noise_up'\n",
        "    folder_name_down = 'noise_down'\n",
        "\n",
        "    output_folder_up = os.path.join(base_path, folder_name_up)\n",
        "    if folder_name_up not in os.listdir(base_path):\n",
        "        os.makedirs(output_folder_up)\n",
        "\n",
        "    output_folder_down = os.path.join(base_path, folder_name_down)\n",
        "    if folder_name_down not in os.listdir(base_path):\n",
        "        os.makedirs(output_folder_down)\n",
        "\n",
        "    # filter files that do not contain 'brightness' or 'noise' in their names\n",
        "    file_list_up = [file for file in os.listdir(input_path_up) if 'brightness' not in file.lower() and 'noise' not in file.lower() and not file.lower().endswith('.ds_store')]\n",
        "    file_list_down = [file for file in os.listdir(input_path_down) if 'brightness' not in file.lower() and 'noise' not in file.lower() and not file.lower().endswith('.ds_store')]\n",
        "\n",
        "    # process source and target imgs in parallel\n",
        "    for image_up, image_down in zip(file_list_up, file_list_down):\n",
        "        # read images\n",
        "        img_up = io.imread(os.path.join(input_path_up, image_up))\n",
        "        img_down = io.imread(os.path.join(input_path_down, image_down))\n",
        "\n",
        "        # apply Gaussian noise to imgs from both folders\n",
        "        noise_var = np.random.uniform(var_range[0], var_range[1])\n",
        "\n",
        "        noisy_img_up = random_noise(img_up, mode='gaussian', mean=0.0, var=noise_var, clip=True)\n",
        "        noisy_img_down = random_noise(img_down, mode='gaussian', mean=0.0, var=noise_var, clip=True)\n",
        "\n",
        "        # convert imgs to uint16 format (16 bits per pixel)\n",
        "        noisy_img_up_16bit = img_as_uint(noisy_img_up)\n",
        "        noisy_img_down_16bit = img_as_uint(noisy_img_down)\n",
        "\n",
        "        # output img names\n",
        "        output_image_name_up = f'{os.path.splitext(image_up)[0]}_noise.tiff'\n",
        "        output_image_name_down = f'{os.path.splitext(image_down)[0]}_noise.tiff'\n",
        "\n",
        "        # save noisy imgs in separate output folders\n",
        "        io.imsave(os.path.join(output_folder_up, output_image_name_up), noisy_img_up_16bit, compression='lzw')\n",
        "        io.imsave(os.path.join(output_folder_down, output_image_name_down), noisy_img_down_16bit, compression='lzw')\n",
        "\n",
        "    # move noisy imgs to their respective original input folders\n",
        "    for file_up, file_down in zip(os.listdir(output_folder_up), os.listdir(output_folder_down)):\n",
        "        shutil.move(os.path.join(output_folder_up, file_up), os.path.join(input_path_up, file_up))\n",
        "        shutil.move(os.path.join(output_folder_down, file_down), os.path.join(input_path_down, file_down))\n",
        "\n",
        "    # remove intermediate folders\n",
        "    shutil.rmtree(output_folder_up)\n",
        "    shutil.rmtree(output_folder_down)\n",
        "\n",
        "noise_var_range = 0.001, 0.002 #@param{type:\"number\"}\n",
        "\n",
        "if noise_var_range == None :\n",
        "  print('Please enter a value')\n",
        "else:\n",
        "# Call function\n",
        "  apply_gaussian_noise_to_images(base_path, input_folder_up, input_folder_down, noise_var_range)"
      ],
      "metadata": {
        "id": "egy_0q_NpbMl",
        "cellView": "form"
      },
      "execution_count": 8,
      "outputs": []
    },
    {
      "cell_type": "markdown",
      "source": [
        "### 4.3. Rotate and flip noisy and bright images"
      ],
      "metadata": {
        "id": "EjfjCCoGBNh3"
      }
    },
    {
      "cell_type": "code",
      "source": [
        "#@markdown ### Rotate and flip noisy and bright images\n",
        "\n",
        "def rotation_flip(base_path, input_folder_up, input_folder_down):\n",
        "    ''' function that applies rotation and flip transformations to imgs in the specified input folders,\n",
        "    saves the transformed imgs into separate output folders, moves the processed imgs back to their original input folders,\n",
        "    and removes intermediate folders'''\n",
        "\n",
        "    # paths\n",
        "    input_path_up = os.path.join(base_path, input_folder_up)\n",
        "    input_path_down = os.path.join(base_path, input_folder_down)\n",
        "\n",
        "    folder_name_up = 'rot_flip_up'\n",
        "    folder_name_down = 'rot_flip_down'\n",
        "\n",
        "    output_folder_up = os.path.join(base_path, folder_name_up)\n",
        "    if folder_name_up not in os.listdir(base_path):\n",
        "        os.makedirs(output_folder_up)\n",
        "\n",
        "    output_folder_down = os.path.join(base_path, folder_name_down)\n",
        "    if folder_name_down not in os.listdir(base_path):\n",
        "        os.makedirs(output_folder_down)\n",
        "\n",
        "    # filter files that contain 'brightness' or 'noise' in their names\n",
        "    file_list_up = [file for file in os.listdir(input_path_up) if 'brightness' in file.lower() or 'noise' in file.lower()]\n",
        "    file_list_down = [file for file in os.listdir(input_path_down) if 'brightness' in file.lower() or 'noise' in file.lower()]\n",
        "\n",
        "    # process source and target imgs in parallel\n",
        "    for image_up, image_down in zip(file_list_up, file_list_down):\n",
        "\n",
        "        # read imgs\n",
        "        img_up = io.imread(os.path.join(input_path_up, image_up))\n",
        "        img_down = io.imread(os.path.join(input_path_down, image_down))\n",
        "\n",
        "        # img_up rotation and flip\n",
        "        img_up_90 = np.rot90(img_up,axes=(1,2))\n",
        "        img_up_180 = np.rot90(img_up_90,axes=(1,2))\n",
        "        img_up_270 = np.rot90(img_up_180,axes=(1,2))\n",
        "\n",
        "        img_up_90_lr = np.fliplr(img_up_90)\n",
        "        img_up_180_lr = np.fliplr(img_up_180)\n",
        "        img_up_270_lr = np.fliplr(img_up_270)\n",
        "\n",
        "        # img_down rotation and flip\n",
        "        img_down_90 = np.rot90(img_down,axes=(1,2))\n",
        "        img_down_180 = np.rot90(img_down_90,axes=(1,2))\n",
        "        img_down_270 = np.rot90(img_down_180,axes=(1,2))\n",
        "\n",
        "        img_down_90_lr = np.fliplr(img_down_90)\n",
        "        img_down_180_lr = np.fliplr(img_down_180)\n",
        "        img_down_270_lr = np.fliplr(img_down_270)\n",
        "\n",
        "        # save up and down imgs in separate output folders\n",
        "        # up_images\n",
        "        io.imsave(os.path.join(output_folder_up, os.path.splitext(image_up)[0] + '_90_lr.tiff'), img_up_90_lr)\n",
        "        io.imsave(os.path.join(output_folder_up, os.path.splitext(image_up)[0] + '_180_lr.tiff'), img_up_180_lr)\n",
        "        io.imsave(os.path.join(output_folder_up, os.path.splitext(image_up)[0] + '_270_lr.tiff'), img_up_270_lr)\n",
        "        # down_images\n",
        "        io.imsave(os.path.join(output_folder_down, os.path.splitext(image_down)[0] + '_90_lr.tiff'), img_down_90_lr)\n",
        "        io.imsave(os.path.join(output_folder_down, os.path.splitext(image_down)[0] + '_180_lr.tiff'), img_down_180_lr)\n",
        "        io.imsave(os.path.join(output_folder_down, os.path.splitext(image_down)[0] + '_270_lr.tiff'), img_down_270_lr)\n",
        "\n",
        "    # move imgs to their respective original input folders\n",
        "    for file_up, file_down in zip(os.listdir(output_folder_up), os.listdir(output_folder_down)):\n",
        "        shutil.move(os.path.join(output_folder_up, file_up), os.path.join(input_path_up, file_up))\n",
        "        shutil.move(os.path.join(output_folder_down, file_down), os.path.join(input_path_down, file_down))\n",
        "\n",
        "    # remove intermediate output folders\n",
        "    shutil.rmtree(output_folder_up)\n",
        "    shutil.rmtree(output_folder_down)\n",
        "\n",
        "#call function\n",
        "rotation_flip(base_path, input_folder_up, input_folder_down)"
      ],
      "metadata": {
        "cellView": "form",
        "id": "KrKoJH5Ip4B3"
      },
      "execution_count": 9,
      "outputs": []
    }
  ],
  "metadata": {
    "colab": {
      "machine_shape": "hm",
      "provenance": []
    },
    "kernelspec": {
      "display_name": "Python 3",
      "name": "python3"
    },
    "language_info": {
      "codemirror_mode": {
        "name": "ipython",
        "version": 3
      },
      "file_extension": ".py",
      "mimetype": "text/x-python",
      "name": "python",
      "nbconvert_exporter": "python",
      "pygments_lexer": "ipython3",
      "version": "3.6.4"
    }
  },
  "nbformat": 4,
  "nbformat_minor": 0
}