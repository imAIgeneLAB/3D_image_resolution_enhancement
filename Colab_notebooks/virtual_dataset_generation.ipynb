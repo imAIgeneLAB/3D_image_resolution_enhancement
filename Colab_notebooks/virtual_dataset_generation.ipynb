{
  "cells": [
    {
      "cell_type": "markdown",
      "metadata": {
        "id": "V9zNGvape2-I"
      },
      "source": [
        "# **Virtual generation of low-resolution image pairs**\n",
        "\n",
        "---\n",
        "\n",
        "<font size = 4>To train a CARE (3D) model, pairs of low and high-resolution images are necessary. When only high-resolution images are available, this notebook can virtually generate corresponding low-resolution images. It is crucial to ensure that the image pairs maintain identical dimensions throughout this process, as it is a requisite for using the CARE (3D) tool.\n",
        "Simulating low-quality images that require restoration (low-resolution pair) involves initially scaling down the original images (high-resolution pair). Subsequently, noise is applied to the images, followed by rescaling. This deliberate process induces the necessary loss of quality required for the training process while ensuring the preservation of the mandatory dimensions."
      ]
    },
    {
      "cell_type": "markdown",
      "metadata": {
        "id": "n4yWFoJNnoin"
      },
      "source": [
        "## **1. Dependencies**\n",
        "---\n"
      ]
    },
    {
      "cell_type": "markdown",
      "metadata": {
        "id": "ohimRYp7UOv-"
      },
      "source": [
        "### **1.1. Install dependencies**\n",
        "---\n",
        "<font size = 4>"
      ]
    },
    {
      "cell_type": "code",
      "execution_count": null,
      "metadata": {
        "cellView": "form",
        "colab": {
          "base_uri": "https://localhost:8080/"
        },
        "id": "E77RFww0Io8C",
        "outputId": "7ac1d733-13aa-4ef8-b9d6-d53ab0dff0ef"
      },
      "outputs": [
        {
          "name": "stdout",
          "output_type": "stream",
          "text": [
            "\u001b[2K     \u001b[90m━━━━━━━━━━━━━━━━━━━━━━━━━━━━━━━━━━━━━━━━\u001b[0m \u001b[32m52.7/52.7 MB\u001b[0m \u001b[31m37.0 MB/s\u001b[0m eta \u001b[36m0:00:00\u001b[0m\n",
            "\u001b[2K     \u001b[90m━━━━━━━━━━━━━━━━━━━━━━━━━━━━━━━━━━━━━━━━\u001b[0m \u001b[32m138.7/138.7 kB\u001b[0m \u001b[31m4.9 MB/s\u001b[0m eta \u001b[36m0:00:00\u001b[0m\n",
            "\u001b[2K     \u001b[90m━━━━━━━━━━━━━━━━━━━━━━━━━━━━━━━━━━━━━━━━\u001b[0m \u001b[32m39.6/39.6 MB\u001b[0m \u001b[31m44.0 MB/s\u001b[0m eta \u001b[36m0:00:00\u001b[0m\n",
            "\u001b[2K     \u001b[90m━━━━━━━━━━━━━━━━━━━━━━━━━━━━━━━━━━━━━━━━\u001b[0m \u001b[32m248.4/248.4 kB\u001b[0m \u001b[31m19.6 MB/s\u001b[0m eta \u001b[36m0:00:00\u001b[0m\n",
            "\u001b[2K     \u001b[90m━━━━━━━━━━━━━━━━━━━━━━━━━━━━━━━━━━━━━━━━\u001b[0m \u001b[32m216.4/216.4 kB\u001b[0m \u001b[31m15.3 MB/s\u001b[0m eta \u001b[36m0:00:00\u001b[0m\n",
            "\u001b[2K     \u001b[90m━━━━━━━━━━━━━━━━━━━━━━━━━━━━━━━━━━━━━━━━\u001b[0m \u001b[32m405.2/405.2 kB\u001b[0m \u001b[31m36.5 MB/s\u001b[0m eta \u001b[36m0:00:00\u001b[0m\n",
            "\u001b[2K     \u001b[90m━━━━━━━━━━━━━━━━━━━━━━━━━━━━━━━━━━━━━━━━\u001b[0m \u001b[32m206.1/206.1 kB\u001b[0m \u001b[31m21.3 MB/s\u001b[0m eta \u001b[36m0:00:00\u001b[0m\n",
            "\u001b[2K     \u001b[90m━━━━━━━━━━━━━━━━━━━━━━━━━━━━━━━━━━━━━━━━\u001b[0m \u001b[32m195.1/195.1 kB\u001b[0m \u001b[31m19.0 MB/s\u001b[0m eta \u001b[36m0:00:00\u001b[0m\n",
            "\u001b[?25h  Preparing metadata (setup.py) ... \u001b[?25l\u001b[?25hdone\n",
            "\u001b[2K     \u001b[90m━━━━━━━━━━━━━━━━━━━━━━━━━━━━━━━━━━━━━━━━\u001b[0m \u001b[32m7.7/7.7 MB\u001b[0m \u001b[31m92.1 MB/s\u001b[0m eta \u001b[36m0:00:00\u001b[0m\n",
            "\u001b[2K     \u001b[90m━━━━━━━━━━━━━━━━━━━━━━━━━━━━━━━━━━━━━━━━\u001b[0m \u001b[32m216.4/216.4 kB\u001b[0m \u001b[31m19.5 MB/s\u001b[0m eta \u001b[36m0:00:00\u001b[0m\n",
            "\u001b[2K     \u001b[90m━━━━━━━━━━━━━━━━━━━━━━━━━━━━━━━━━━━━━━━━\u001b[0m \u001b[32m76.1/76.1 kB\u001b[0m \u001b[31m9.1 MB/s\u001b[0m eta \u001b[36m0:00:00\u001b[0m\n",
            "\u001b[2K     \u001b[90m━━━━━━━━━━━━━━━━━━━━━━━━━━━━━━━━━━━━━━━━\u001b[0m \u001b[32m73.5/73.5 kB\u001b[0m \u001b[31m9.6 MB/s\u001b[0m eta \u001b[36m0:00:00\u001b[0m\n",
            "\u001b[2K     \u001b[90m━━━━━━━━━━━━━━━━━━━━━━━━━━━━━━━━━━━━━━━━\u001b[0m \u001b[32m73.4/73.4 kB\u001b[0m \u001b[31m9.1 MB/s\u001b[0m eta \u001b[36m0:00:00\u001b[0m\n",
            "\u001b[2K     \u001b[90m━━━━━━━━━━━━━━━━━━━━━━━━━━━━━━━━━━━━━━━━\u001b[0m \u001b[32m11.1/11.1 MB\u001b[0m \u001b[31m112.2 MB/s\u001b[0m eta \u001b[36m0:00:00\u001b[0m\n",
            "\u001b[2K     \u001b[90m━━━━━━━━━━━━━━━━━━━━━━━━━━━━━━━━━━━━━━━━\u001b[0m \u001b[32m143.8/143.8 kB\u001b[0m \u001b[31m17.5 MB/s\u001b[0m eta \u001b[36m0:00:00\u001b[0m\n",
            "\u001b[?25h  Building wheel for asciitree (setup.py) ... \u001b[?25l\u001b[?25hdone\n"
          ]
        }
      ],
      "source": [
        "#@markdown ##Install dependencies\n",
        "! pip install -q readlif\n",
        "! pip install -q SimpleITK\n",
        "! pip install -q aicsimageio"
      ]
    },
    {
      "cell_type": "markdown",
      "metadata": {
        "id": "GV9Saw1JUVVP"
      },
      "source": [
        "### **1.2. Load key dependencies**\n",
        "---\n",
        "<font size = 4>"
      ]
    },
    {
      "cell_type": "code",
      "execution_count": null,
      "metadata": {
        "cellView": "form",
        "id": "gx9eFbcuIXYh"
      },
      "outputs": [],
      "source": [
        "#@markdown ##Load dependencies\n",
        "\n",
        "from readlif.reader import LifFile\n",
        "import numpy as np\n",
        "import tifffile as tf\n",
        "import os\n",
        "import SimpleITK as sitk\n",
        "from aicsimageio import AICSImage\n",
        "import shutil\n",
        "from skimage import io, img_as_uint\n",
        "from skimage.util import random_noise\n",
        "import xml.etree.ElementTree as ET\n",
        "import ipywidgets as widgets\n",
        "from IPython.display import display"
      ]
    },
    {
      "cell_type": "markdown",
      "metadata": {
        "id": "b4-r1gE7Iamv"
      },
      "source": [
        "## **2. Initialise the Colab session**\n",
        "---"
      ]
    },
    {
      "cell_type": "markdown",
      "metadata": {
        "id": "-oqBTeLaImnU"
      },
      "source": [
        "### **2.1. Mount your Google Drive**\n",
        "---\n",
        "<font size = 4> To use this notebook on the data present in your Google Drive, you need to mount your Google Drive to this notebook.\n",
        "\n",
        "<font size = 4> Play the cell below to mount your Google Drive and follow the link. In the new browser window, select your drive and select 'Allow', copy the code, paste into the cell and press enter. This will give Colab access to the data on the drive.\n",
        "\n",
        "<font size = 4> Once this is done, your data are available in the **Files** tab on the top left of notebook."
      ]
    },
    {
      "cell_type": "code",
      "execution_count": null,
      "metadata": {
        "cellView": "form",
        "colab": {
          "base_uri": "https://localhost:8080/"
        },
        "id": "01Djr8v-5pPk",
        "outputId": "35d680da-9c28-421e-d09c-c61ea1b2edec"
      },
      "outputs": [
        {
          "name": "stdout",
          "output_type": "stream",
          "text": [
            "Mounted at /content/gdrive\n"
          ]
        }
      ],
      "source": [
        "#@markdown ##Play the cell to connect your Google Drive to Colab\n",
        "\n",
        "#@markdown * Follow the instructions.\n",
        "\n",
        "#@markdown * Click on \"Files\" site on the right. Refresh the site. Your Google Drive folder should now be available here as \"drive\".\n",
        "\n",
        "# mount user's Google Drive to Google Colab.\n",
        "from google.colab import drive\n",
        "drive.mount('/content/gdrive')"
      ]
    },
    {
      "cell_type": "markdown",
      "metadata": {
        "id": "DvuiNvCbbeKN"
      },
      "source": [
        "**<font size = 4> If you cannot see your files, reactivate your session by connecting to your hosted runtime.**\n",
        "\n",
        "\n",
        "<img width=\"40%\" alt =\"Example of image detection with retinanet.\" src=\"https://github.com/HenriquesLab/ZeroCostDL4Mic/raw/master/Wiki_files/connect_to_hosted.png\"><figcaption> Connect to a hosted runtime. </figcaption>"
      ]
    },
    {
      "cell_type": "markdown",
      "metadata": {
        "id": "Fw0kkTU6CsU4"
      },
      "source": [
        "## **3. Select your paths**\n",
        "\n",
        "---\n"
      ]
    },
    {
      "cell_type": "markdown",
      "metadata": {
        "id": "CB6acvUFtWqd"
      },
      "source": [
        "<font size = 4> **Path and folder path of the input images**\n",
        "\n",
        "<font size = 4>**`base_path`:** this is the folder path where the folder with the high-resolution images in '.tiff' format is located in your google drive, and where the output will be saved.\n",
        "\n",
        "<font size = 4>**`input_folder`:** this is the folder path where the high-resolution images in '.tiff' format are.\n",
        "\n",
        "\n",
        "\n",
        "\n",
        "\n",
        " To find the paths, go to your Files on the left of the notebook, navigate to the folders containing your files and copy the path by right-clicking on the folder, **Copy path** and pasting it into the right box below.\n"
      ]
    },
    {
      "cell_type": "code",
      "execution_count": null,
      "metadata": {
        "cellView": "form",
        "id": "YZApIvDJBAUd"
      },
      "outputs": [],
      "source": [
        "#@markdown ##Paths:\n",
        "\n",
        "# base folder where the GT image is\n",
        "base_path = \"/content/gdrive/MyDrive/Colab Notebooks/res\" #@param {type:\"string\"}\n",
        "\n",
        "# .tiff images folder name\n",
        "input_folder = \"/content/gdrive/MyDrive/Colab Notebooks/res/train_up\" #@param {type:\"string\"}"
      ]
    },
    {
      "cell_type": "markdown",
      "metadata": {
        "id": "xGcl7WGP4WHt"
      },
      "source": [
        "## **4. Virtual generation of low-resolution image pairs**\n",
        "---"
      ]
    },
    {
      "cell_type": "markdown",
      "metadata": {
        "id": "rbAAnI2DAoPr"
      },
      "source": [
        "<font size = 4>**`down_factor_xy`:** this numerical value acts as a divisor for the original x and y dimensions of the images, allowing for downscaling. It is important to note that after division, only the non-decimal portion determines the new dimensions (no rounding occurs). For example, if the initial x and y dimensions are both 2048, and the rescaling factor is set to 10, the resulting dimensions will be 204. Prior to this step, understanding the precise pixel dimensions of your images is crucial to accurately select the required rescaling factor.\n",
        "\n",
        "<font size = 4>**`noise_var_range`:**this parameter sets the range for the noise addition and is used to randomly sample a value within this range. We recommend the following range: 0.001, 0.003. Please use this format when specifying the range. Disregard the red warning message shown below this field."
      ]
    },
    {
      "cell_type": "code",
      "execution_count": null,
      "metadata": {
        "cellView": "form",
        "colab": {
          "background_save": true
        },
        "id": "mMS0l7MXOqwC",
        "outputId": "093a19fc-cbc1-4621-e4ca-3733cd16827d"
      },
      "outputs": [
        {
          "name": "stdout",
          "output_type": "stream",
          "text": [
            "The lower resolution image pairs virtually generated are in /content/gdrive/MyDrive/Colab Notebooks/res/train_down\n"
          ]
        }
      ],
      "source": [
        "def tiff_imgs_pairs(base_path, original_images_folder, var_range, down_factor_xy=None, delete_intermediate=False):\n",
        "    ''' downscale, add noise and upscale .tiff imgs'''\n",
        "\n",
        "    # Downscale\n",
        "\n",
        "    # paths\n",
        "    down_folder_name = 'down'\n",
        "    output_folder_down = os.path.join(base_path, down_folder_name)\n",
        "    if down_folder_name not in os.listdir(base_path):\n",
        "        os.makedirs(output_folder_down)\n",
        "\n",
        "    file_list = os.listdir(original_images_folder)\n",
        "\n",
        "    original_size_dict = {}\n",
        "\n",
        "    for file_name in file_list:\n",
        "        if file_name.endswith('.tiff'):\n",
        "            input_image_path = os.path.join(original_images_folder, file_name)\n",
        "            output_image_path = os.path.join(output_folder_down, file_name)\n",
        "\n",
        "            # Read image\n",
        "            img = sitk.ReadImage(input_image_path)\n",
        "\n",
        "            # Original dimensions [X, Y, Z]\n",
        "            original_size = img.GetSize()\n",
        "            original_size_dict[file_name] = original_size\n",
        "\n",
        "            # Calculate new dimensions [X, Y]\n",
        "            new_size = [int(sz / down_factor_xy) if idx != 2 else sz for idx, sz in enumerate(original_size)]\n",
        "\n",
        "            # Calculate scale factor for new spacing\n",
        "            scale_factor = [old_size / new_size_val for old_size, new_size_val in zip(original_size, new_size)]\n",
        "\n",
        "            # Calculate new spacing\n",
        "            new_spacing = [sz * scale_factor_val for sz, scale_factor_val in zip(img.GetSpacing(), scale_factor)]\n",
        "\n",
        "            # Apply resolution reduction\n",
        "            resampler = sitk.ResampleImageFilter()\n",
        "            resampler.SetOutputSpacing(new_spacing)\n",
        "            resampler.SetSize(new_size)\n",
        "            resampler.SetOutputDirection(img.GetDirection())\n",
        "            resampler.SetOutputOrigin(img.GetOrigin())\n",
        "            resampler.SetTransform(sitk.Transform())\n",
        "            resampler.SetDefaultPixelValue(img.GetPixelIDValue())\n",
        "\n",
        "            # Execute resampling\n",
        "            output_image = resampler.Execute(img)\n",
        "\n",
        "            # Save images\n",
        "            sitk.WriteImage(output_image, output_image_path)\n",
        "\n",
        "    # Gaussian noise\n",
        "\n",
        "    # Paths\n",
        "    noise_folder_name = 'noise'\n",
        "    output_folder_noise = os.path.join(base_path, noise_folder_name)\n",
        "    if noise_folder_name not in os.listdir(base_path):\n",
        "        os.makedirs(output_folder_noise)\n",
        "\n",
        "    file_list = os.listdir(output_folder_down)\n",
        "\n",
        "    for file_name in file_list:\n",
        "        # Read the source image from the 'output_folder_down' directory\n",
        "        input_image_path = os.path.join(output_folder_down, file_name)\n",
        "        output_image_path = os.path.join(output_folder_noise, file_name)\n",
        "\n",
        "        img = io.imread(input_image_path)\n",
        "\n",
        "        # Apply Gaussian noise to the source image\n",
        "        noise_var = np.random.uniform(var_range[0], var_range[1])\n",
        "        noisy_img = random_noise(img, mode='gaussian', mean=0.0, var=noise_var, clip=True)\n",
        "\n",
        "        # Convert images to uint16 format (16 bits per pixel)\n",
        "        noisy_img_16bit = img_as_uint(noisy_img)\n",
        "\n",
        "        # Save the .tiff image with LZW compression\n",
        "        io.imsave(output_image_path, noisy_img_16bit, compression='lzw')\n",
        "\n",
        "\n",
        "    # Upscale\n",
        "\n",
        "    # Paths\n",
        "    up_folder_name = 'train_down'\n",
        "    output_folder_up = os.path.join(base_path, up_folder_name)\n",
        "    if up_folder_name not in os.listdir(base_path):\n",
        "        os.makedirs(output_folder_up)\n",
        "\n",
        "    file_list = os.listdir(output_folder_noise)\n",
        "\n",
        "    for file_name in file_list:\n",
        "        if file_name.endswith('.tiff'):\n",
        "            input_image_path = os.path.join(output_folder_noise, file_name)\n",
        "            output_image_path = os.path.join(output_folder_up, file_name)\n",
        "\n",
        "            # Read image\n",
        "            img = sitk.ReadImage(input_image_path)\n",
        "\n",
        "            # Original size based on filename\n",
        "            original_size = original_size_dict.get(file_name)\n",
        "            if original_size is None:\n",
        "                continue  # Skip images without original size info\n",
        "\n",
        "            # New dimensions to the original size\n",
        "            new_size = original_size\n",
        "\n",
        "            # Calculate scale factor for new spacing\n",
        "            scale_factor = [old_size / new_size_val for old_size, new_size_val in zip(img.GetSize(), new_size)]\n",
        "\n",
        "            # Calculate new spacing\n",
        "            new_spacing = [sz * scale_factor_val for sz, scale_factor_val in zip(img.GetSpacing(), scale_factor)]\n",
        "\n",
        "            # Apply resolution increase\n",
        "            resampler = sitk.ResampleImageFilter()\n",
        "            resampler.SetOutputSpacing(new_spacing)\n",
        "            resampler.SetSize(new_size)\n",
        "            resampler.SetOutputDirection(img.GetDirection())\n",
        "            resampler.SetOutputOrigin(img.GetOrigin())\n",
        "            resampler.SetTransform(sitk.Transform())\n",
        "            resampler.SetDefaultPixelValue(img.GetPixelIDValue())\n",
        "\n",
        "            # Execute resampling\n",
        "            output_image = resampler.Execute(img)\n",
        "\n",
        "            # Save images\n",
        "            sitk.WriteImage(output_image, output_image_path)\n",
        "\n",
        "    # Delete intermediate folders\n",
        "    if delete_intermediate:\n",
        "        shutil.rmtree(output_folder_down)\n",
        "        shutil.rmtree(output_folder_noise)\n",
        "\n",
        "    return output_folder_up\n",
        "\n",
        "\n",
        "down_factor_xy = 2 #@param{type:\"number\"}\n",
        "noise_var_range = 0.001, 0.003 #@param{type:\"number\"}\n",
        "\n",
        "if down_factor_xy == None or noise_var_range == None :\n",
        "  print('Please enter a value')\n",
        "else:\n",
        "# Call function\n",
        "  output_folder_up = tiff_imgs_pairs(base_path, input_folder, noise_var_range, down_factor_xy, delete_intermediate=True, )\n",
        "  if output_folder_up:\n",
        "    print(f'The lower resolution image pairs virtually generated are in {output_folder_up}')\n"
      ]
    }
  ],
  "metadata": {
    "colab": {
      "machine_shape": "hm",
      "provenance": []
    },
    "kernelspec": {
      "display_name": "Python 3",
      "name": "python3"
    },
    "language_info": {
      "codemirror_mode": {
        "name": "ipython",
        "version": 3
      },
      "file_extension": ".py",
      "mimetype": "text/x-python",
      "name": "python",
      "nbconvert_exporter": "python",
      "pygments_lexer": "ipython3",
      "version": "3.6.4"
    }
  },
  "nbformat": 4,
  "nbformat_minor": 0
}