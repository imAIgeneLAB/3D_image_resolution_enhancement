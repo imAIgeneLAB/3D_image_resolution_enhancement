{
  "cells": [
    {
      "cell_type": "markdown",
      "metadata": {
        "id": "V9zNGvape2-I"
      },
      "source": [
        "# **Conversion of 3D image formats**\n",
        "\n",
        "---\n",
        "\n",
        "<font size = 4>This notebook facilitates the conversion of original images stored in '.lif' (Leica Image File Format) or '.czi' (Carl Zeiss Image) formats to the widely compatible '.tiff' (Tagged Image File Format)."
      ]
    },
    {
      "cell_type": "markdown",
      "metadata": {
        "id": "n4yWFoJNnoin"
      },
      "source": [
        "## **1. Dependencies**\n",
        "---\n"
      ]
    },
    {
      "cell_type": "markdown",
      "metadata": {
        "id": "ohimRYp7UOv-"
      },
      "source": [
        "### **1.1. Install dependencies**\n",
        "---\n",
        "<font size = 4>"
      ]
    },
    {
      "cell_type": "code",
      "source": [
        "#@markdown ##Install dependencies\n",
        "! pip install -q readlif\n",
        "! pip install -q SimpleITK\n",
        "! pip install -q aicsimageio"
      ],
      "metadata": {
        "id": "E77RFww0Io8C",
        "colab": {
          "base_uri": "https://localhost:8080/"
        },
        "outputId": "564dbe96-304e-4178-e39b-548654708f87"
      },
      "execution_count": 1,
      "outputs": [
        {
          "output_type": "stream",
          "name": "stdout",
          "text": [
            "\u001b[2K     \u001b[90m━━━━━━━━━━━━━━━━━━━━━━━━━━━━━━━━━━━━━━━━\u001b[0m \u001b[32m52.7/52.7 MB\u001b[0m \u001b[31m27.8 MB/s\u001b[0m eta \u001b[36m0:00:00\u001b[0m\n",
            "\u001b[2K     \u001b[90m━━━━━━━━━━━━━━━━━━━━━━━━━━━━━━━━━━━━━━━━\u001b[0m \u001b[32m138.7/138.7 kB\u001b[0m \u001b[31m3.2 MB/s\u001b[0m eta \u001b[36m0:00:00\u001b[0m\n",
            "\u001b[2K     \u001b[90m━━━━━━━━━━━━━━━━━━━━━━━━━━━━━━━━━━━━━━━━\u001b[0m \u001b[32m39.6/39.6 MB\u001b[0m \u001b[31m36.9 MB/s\u001b[0m eta \u001b[36m0:00:00\u001b[0m\n",
            "\u001b[2K     \u001b[90m━━━━━━━━━━━━━━━━━━━━━━━━━━━━━━━━━━━━━━━━\u001b[0m \u001b[32m248.4/248.4 kB\u001b[0m \u001b[31m25.6 MB/s\u001b[0m eta \u001b[36m0:00:00\u001b[0m\n",
            "\u001b[2K     \u001b[90m━━━━━━━━━━━━━━━━━━━━━━━━━━━━━━━━━━━━━━━━\u001b[0m \u001b[32m216.4/216.4 kB\u001b[0m \u001b[31m23.4 MB/s\u001b[0m eta \u001b[36m0:00:00\u001b[0m\n",
            "\u001b[2K     \u001b[90m━━━━━━━━━━━━━━━━━━━━━━━━━━━━━━━━━━━━━━━━\u001b[0m \u001b[32m405.2/405.2 kB\u001b[0m \u001b[31m39.1 MB/s\u001b[0m eta \u001b[36m0:00:00\u001b[0m\n",
            "\u001b[2K     \u001b[90m━━━━━━━━━━━━━━━━━━━━━━━━━━━━━━━━━━━━━━━━\u001b[0m \u001b[32m206.1/206.1 kB\u001b[0m \u001b[31m21.4 MB/s\u001b[0m eta \u001b[36m0:00:00\u001b[0m\n",
            "\u001b[2K     \u001b[90m━━━━━━━━━━━━━━━━━━━━━━━━━━━━━━━━━━━━━━━━\u001b[0m \u001b[32m195.1/195.1 kB\u001b[0m \u001b[31m21.1 MB/s\u001b[0m eta \u001b[36m0:00:00\u001b[0m\n",
            "\u001b[?25h  Preparing metadata (setup.py) ... \u001b[?25l\u001b[?25hdone\n",
            "\u001b[2K     \u001b[90m━━━━━━━━━━━━━━━━━━━━━━━━━━━━━━━━━━━━━━━━\u001b[0m \u001b[32m7.7/7.7 MB\u001b[0m \u001b[31m81.2 MB/s\u001b[0m eta \u001b[36m0:00:00\u001b[0m\n",
            "\u001b[2K     \u001b[90m━━━━━━━━━━━━━━━━━━━━━━━━━━━━━━━━━━━━━━━━\u001b[0m \u001b[32m216.4/216.4 kB\u001b[0m \u001b[31m21.9 MB/s\u001b[0m eta \u001b[36m0:00:00\u001b[0m\n",
            "\u001b[2K     \u001b[90m━━━━━━━━━━━━━━━━━━━━━━━━━━━━━━━━━━━━━━━━\u001b[0m \u001b[32m76.1/76.1 kB\u001b[0m \u001b[31m9.0 MB/s\u001b[0m eta \u001b[36m0:00:00\u001b[0m\n",
            "\u001b[2K     \u001b[90m━━━━━━━━━━━━━━━━━━━━━━━━━━━━━━━━━━━━━━━━\u001b[0m \u001b[32m73.5/73.5 kB\u001b[0m \u001b[31m8.2 MB/s\u001b[0m eta \u001b[36m0:00:00\u001b[0m\n",
            "\u001b[2K     \u001b[90m━━━━━━━━━━━━━━━━━━━━━━━━━━━━━━━━━━━━━━━━\u001b[0m \u001b[32m73.4/73.4 kB\u001b[0m \u001b[31m8.5 MB/s\u001b[0m eta \u001b[36m0:00:00\u001b[0m\n",
            "\u001b[2K     \u001b[90m━━━━━━━━━━━━━━━━━━━━━━━━━━━━━━━━━━━━━━━━\u001b[0m \u001b[32m11.1/11.1 MB\u001b[0m \u001b[31m58.8 MB/s\u001b[0m eta \u001b[36m0:00:00\u001b[0m\n",
            "\u001b[2K     \u001b[90m━━━━━━━━━━━━━━━━━━━━━━━━━━━━━━━━━━━━━━━━\u001b[0m \u001b[32m143.8/143.8 kB\u001b[0m \u001b[31m17.2 MB/s\u001b[0m eta \u001b[36m0:00:00\u001b[0m\n",
            "\u001b[?25h  Building wheel for asciitree (setup.py) ... \u001b[?25l\u001b[?25hdone\n"
          ]
        }
      ]
    },
    {
      "cell_type": "markdown",
      "metadata": {
        "id": "GV9Saw1JUVVP"
      },
      "source": [
        "### **1.2. Load key dependencies**\n",
        "---\n",
        "<font size = 4>"
      ]
    },
    {
      "cell_type": "code",
      "source": [
        "#@markdown ##Load dependencies\n",
        "\n",
        "from readlif.reader import LifFile\n",
        "import numpy as np\n",
        "import tifffile as tf\n",
        "import os\n",
        "import SimpleITK as sitk\n",
        "from aicsimageio import AICSImage\n",
        "import shutil\n",
        "from skimage import io, img_as_uint\n",
        "from skimage.util import random_noise\n",
        "import xml.etree.ElementTree as ET\n",
        "import ipywidgets as widgets\n",
        "from IPython.display import display"
      ],
      "metadata": {
        "id": "gx9eFbcuIXYh",
        "cellView": "form"
      },
      "execution_count": 2,
      "outputs": []
    },
    {
      "cell_type": "markdown",
      "metadata": {
        "id": "b4-r1gE7Iamv"
      },
      "source": [
        "## **2. Initialise the Colab session**\n",
        "---"
      ]
    },
    {
      "cell_type": "markdown",
      "metadata": {
        "id": "-oqBTeLaImnU"
      },
      "source": [
        "### **2.1. Mount your Google Drive**\n",
        "---\n",
        "<font size = 4> To use this notebook on the data present in your Google Drive, you need to mount your Google Drive to this notebook.\n",
        "\n",
        "<font size = 4> Play the cell below to mount your Google Drive and follow the link. In the new browser window, select your drive and select 'Allow', copy the code, paste into the cell and press enter. This will give Colab access to the data on the drive.\n",
        "\n",
        "<font size = 4> Once this is done, your data are available in the **Files** tab on the top left of notebook."
      ]
    },
    {
      "cell_type": "code",
      "execution_count": 3,
      "metadata": {
        "cellView": "form",
        "id": "01Djr8v-5pPk",
        "colab": {
          "base_uri": "https://localhost:8080/"
        },
        "outputId": "49e095f9-cdae-4387-b6f8-1c55d5cea38a"
      },
      "outputs": [
        {
          "output_type": "stream",
          "name": "stdout",
          "text": [
            "Mounted at /content/gdrive\n"
          ]
        }
      ],
      "source": [
        "#@markdown ##Play the cell to connect your Google Drive to Colab\n",
        "\n",
        "#@markdown * Follow the instructions.\n",
        "\n",
        "#@markdown * Click on \"Files\" site on the right. Refresh the site. Your Google Drive folder should now be available here as \"drive\".\n",
        "\n",
        "# mount user's Google Drive to Google Colab.\n",
        "from google.colab import drive\n",
        "drive.mount('/content/gdrive')"
      ]
    },
    {
      "cell_type": "markdown",
      "metadata": {
        "id": "DvuiNvCbbeKN"
      },
      "source": [
        "**<font size = 4> If you cannot see your files, reactivate your session by connecting to your hosted runtime.**\n",
        "\n",
        "\n",
        "<img width=\"40%\" alt =\"Example of image detection with retinanet.\" src=\"https://github.com/HenriquesLab/ZeroCostDL4Mic/raw/master/Wiki_files/connect_to_hosted.png\"><figcaption> Connect to a hosted runtime. </figcaption>"
      ]
    },
    {
      "cell_type": "markdown",
      "metadata": {
        "id": "Fw0kkTU6CsU4"
      },
      "source": [
        "## **3. Select your paths**\n",
        "\n",
        "---\n"
      ]
    },
    {
      "cell_type": "markdown",
      "metadata": {
        "id": "CB6acvUFtWqd"
      },
      "source": [
        "<font size = 4> **Paths for original folder and original input image**\n",
        "\n",
        "<font size = 4>**`base_path`:** this is the folder path where your original image is located in your google drive, and where the output will be saved.\n",
        "\n",
        "<font size = 4>**`input_file`:** this is the name of your original image file.\n",
        "\n",
        "\n",
        "\n",
        "\n",
        "\n",
        " To find the path of the folder containing the respective image, go to your Files on the left of the notebook, navigate to the folder containing your file and copy the path by right-clicking on the folder, **Copy path** and pasting it into the right box below.\n"
      ]
    },
    {
      "cell_type": "code",
      "source": [
        "#@markdown ##Path of the original images:\n",
        "\n",
        "# base folder where the GT image is\n",
        "base_path = \"/content/gdrive/MyDrive/Colab Notebooks/res\" #@param {type:\"string\"}\n",
        "\n",
        "# lif image file name\n",
        "input_file = \"ResonantRestoration.lif\" #@param {type:\"string\"}\n",
        "\n",
        "output_folder_name = widgets.Text(value='', description='Enter output folder name:')\n",
        "output_folder_name.style.description_width = '150px'\n",
        "output_folder_name.layout.width = '600px'\n",
        "\n",
        "def check_output_folder(base_path, folder_name):\n",
        "    return folder_name in os.listdir(base_path)\n",
        "\n",
        "def on_button_clicked(b):\n",
        "    new_folder_name = output_folder_name.value.strip()\n",
        "    if new_folder_name:\n",
        "        if check_output_folder(base_path, new_folder_name):\n",
        "            print('This folder already exists. Please choose another name.')\n",
        "            output_folder_name.value = ''\n",
        "\n",
        "        else:\n",
        "            print('Folder name is available:', new_folder_name)\n",
        "    else:\n",
        "        print('Please provide a name for the output folder.')\n",
        "\n",
        "button = widgets.Button(description='Check Folder Name')\n",
        "button.on_click(on_button_clicked)\n",
        "\n",
        "display(output_folder_name, button)"
      ],
      "metadata": {
        "id": "YZApIvDJBAUd",
        "cellView": "form",
        "colab": {
          "base_uri": "https://localhost:8080/",
          "height": 100,
          "referenced_widgets": [
            "91808184e5a94f7c856149c36524ccdd",
            "a40d2ddd2b314b2eb901497f4a0ab95f",
            "a166b7c18b534160b45623aa5c99581d",
            "3f690c213ab94231b903f9432c9f328b",
            "3945d60d87a7485c9db4d559f8dd2bd2",
            "542b5d9e906e4031a3edbd3059a18c9b"
          ]
        },
        "outputId": "4188658b-f9db-4a19-97a9-5eca507c1b87"
      },
      "execution_count": 4,
      "outputs": [
        {
          "output_type": "display_data",
          "data": {
            "text/plain": [
              "Text(value='', description='Enter output folder name:', layout=Layout(width='600px'), style=DescriptionStyle(d…"
            ],
            "application/vnd.jupyter.widget-view+json": {
              "version_major": 2,
              "version_minor": 0,
              "model_id": "91808184e5a94f7c856149c36524ccdd"
            }
          },
          "metadata": {}
        },
        {
          "output_type": "display_data",
          "data": {
            "text/plain": [
              "Button(description='Check Folder Name', style=ButtonStyle())"
            ],
            "application/vnd.jupyter.widget-view+json": {
              "version_major": 2,
              "version_minor": 0,
              "model_id": "3f690c213ab94231b903f9432c9f328b"
            }
          },
          "metadata": {}
        },
        {
          "output_type": "stream",
          "name": "stdout",
          "text": [
            "Folder name is available: train_up\n"
          ]
        }
      ]
    },
    {
      "cell_type": "markdown",
      "metadata": {
        "id": "xGcl7WGP4WHt"
      },
      "source": [
        "## **4. Image format conversion to '.tiff'**\n",
        "---"
      ]
    },
    {
      "cell_type": "markdown",
      "source": [
        "<font size = 4>**`lif_to_tiff`,`czi_to_tiff`:** here you select the format of your original image you want to convert to '.tiff' format.\n",
        "\n",
        "<font size = 4>**`img_dimensions`:** if 'lif_to_tiff' is selected and the '.lif' file contains images with different dimensions, you have the option to selectively extract images based on specific dimensions. Please input the desired dimensions as a pair of x,y numbers (e.g., '2048, 2048'). This setting allows you to extract only those images matching the specified dimensions, but if you wish to extract all images regardless of their dimensions, simply leave this field blank. Disregard the red warning message shown below this field. Please note that providing specific dimensions will filter and extract only the images matching those exact dimensions or none if the dimensions are incorrectly set."
      ],
      "metadata": {
        "id": "rbAAnI2DAoPr"
      }
    },
    {
      "cell_type": "code",
      "execution_count": 7,
      "metadata": {
        "id": "htqjkJWt5J_8",
        "colab": {
          "base_uri": "https://localhost:8080/"
        },
        "outputId": "6649405c-3665-4785-aa11-acc875ad4174",
        "cellView": "form"
      },
      "outputs": [
        {
          "output_type": "stream",
          "name": "stdout",
          "text": [
            "Your converted images are in /content/gdrive/MyDrive/Colab Notebooks/res/train_up\n"
          ]
        }
      ],
      "source": [
        "#@markdown ##Images format conversion\n",
        "\n",
        "def lif_tiff(base_path, input_file, dimensions, output_folder_name):\n",
        "    '''extract imgs with specified dimensions or extract all imgs from .lif file\n",
        "     and convert to .tiff imgs'''\n",
        "\n",
        "    # paths\n",
        "    lif_path = os.path.join(base_path, input_file)\n",
        "    lif_file = LifFile(lif_path) # LifFile object using the lif_path\n",
        "\n",
        "    output_folder = os.path.join(base_path, output_folder_name.value)\n",
        "    if output_folder_name not in os.listdir(base_path):\n",
        "        os.makedirs(output_folder)\n",
        "\n",
        "    # iterating through each image in the .lif file\n",
        "    for idx, image in enumerate(lif_file.get_iter_image()):\n",
        "        # check if dimensions are not specified or the img dimensions match the specified dimensions\n",
        "        if dimensions is None or (image.dims.x, image.dims.y) == dimensions:\n",
        "            num_slices = image.info['dims'].z # num of slices in the img\n",
        "            num_channels = image.info['channels'] #num of channels in the img\n",
        "\n",
        "            # create an empty array to stack imgs (considering variable channels)\n",
        "            image_stack = np.empty((num_channels * num_slices, image.dims.y, image.dims.x), dtype=np.uint16)\n",
        "\n",
        "            # loop through slices and channels to populate the img stack\n",
        "            for z in range(num_slices):\n",
        "                for c in range(num_channels):\n",
        "                    frame = np.array(image.get_frame(z=z, c=c)) # get the frame at slice z and channel c\n",
        "                    image_stack[z * num_channels + c] = frame # assign the frame to the appropriate position in the stack\n",
        "\n",
        "            voxel_size = image.info['scale'][2::-1] # voxel size info\n",
        "            resolution = (voxel_size[1], voxel_size[2]) # define resolution based on voxel size\n",
        "\n",
        "            # output file path for the .tiff img\n",
        "            output_file_path = os.path.join(output_folder, f'image_{idx + 1}.tiff')\n",
        "\n",
        "            # save the img stack as a .tiff file with specified metadata\n",
        "            tf.imwrite(output_file_path, image_stack, resolution=resolution,\n",
        "                       metadata={'axes': 'ZYX', 'Z': num_channels*num_slices})\n",
        "\n",
        "    return output_folder # get the path of the output_folder to be used in the subsequent step 2 as input folder\n",
        "\n",
        "\n",
        "def czi_tiff(base_path, input_file, output_folder_name):\n",
        "    '''convert .czi img to .tiff img'''\n",
        "\n",
        "    # paths\n",
        "    czi_path = os.path.join(base_path, input_file)\n",
        "\n",
        "    output_folder = os.path.join(base_path, output_folder_name.value)\n",
        "    if output_folder_name not in os.listdir(base_path):\n",
        "        os.makedirs(output_folder)\n",
        "\n",
        "    # read the .czi imge using AICSImage\n",
        "    img = AICSImage(czi_path)\n",
        "    data = img.get_image_data('CZYX')  # img data\n",
        "\n",
        "    # num of channels and slices from the img, and y and x dimenisons\n",
        "    num_channels = data.shape[0]\n",
        "    num_slices = data.shape[1]\n",
        "    dim_y = data.shape[2]\n",
        "    dim_x = data.shape[3]\n",
        "\n",
        "    # empty array to combine data from all channels and slices\n",
        "    image_stack = np.empty((num_channels * num_slices, dim_y, dim_x), dtype=np.uint16)\n",
        "\n",
        "    # loop through slices and channels to populate the img stack\n",
        "    for z in range(num_slices):\n",
        "        for c in range(num_channels):\n",
        "            frame = np.array(data[c, z, :, :])  # get the frame at slice z and channel c\n",
        "            image_stack[z * num_channels + c] = frame  # assign the frame to the appropriate position in the stack\n",
        "\n",
        "    # voxel size info\n",
        "    # assuming img.metadata is an Element object\n",
        "    metadata_xml = img.metadata\n",
        "\n",
        "    # helper function to safely extract text content from an element and convert to float\n",
        "    def get_element_float(element, tag):\n",
        "        child = element.find(tag)\n",
        "        return float(child.text) if child is not None and child.text is not None else None\n",
        "\n",
        "    # access common metadata keys from the XML structure\n",
        "    voxel_size_x = (get_element_float(metadata_xml, './/ScalingX'))* 1_000_000\n",
        "    voxel_size_y = (get_element_float(metadata_xml, './/ScalingY'))* 1_000_000\n",
        "    resolution = (voxel_size_x, voxel_size_y)  # define resolution (x, y)\n",
        "\n",
        "    # save the img stack as .tiff with associated metadata\n",
        "    output_file_path = os.path.join(output_folder, f'image.tiff')\n",
        "    tf.imwrite(output_file_path, image_stack, resolution=resolution,\n",
        "                metadata={'axes': 'ZYX', 'Z': num_channels*num_slices})\n",
        "\n",
        "    return output_folder  # get the path of the output_folder to be used in the subsequent step 2 as input folder\n",
        "\n",
        "# '.lif' or '.czi\n",
        "lif_to_tiff = True #@param{type:\"boolean\"}\n",
        "\n",
        "img_dimensions = 2048, 2048 #@param{type:\"number\"}\n",
        "\n",
        "czi_to_tiff = False #@param{type:\"boolean\"}\n",
        "\n",
        "\n",
        "\n",
        "if lif_to_tiff == True and czi_to_tiff == True:\n",
        "    print(\"Please select only one conversion method.\")\n",
        "elif lif_to_tiff == True and czi_to_tiff == False:\n",
        "    if input_file.lower().endswith('.czi'):\n",
        "        print('Failed to convert images using lif_to_tiff because the input file has a .czi extension.')\n",
        "    else:\n",
        "        output_folder = lif_tiff(base_path, input_file, dimensions=img_dimensions, output_folder_name=output_folder_name)\n",
        "        if output_folder:\n",
        "            print(f'Your converted images are in {output_folder}')\n",
        "        else:\n",
        "            print('Failed to convert images using lif_to_tiff')\n",
        "elif lif_to_tiff == False and czi_to_tiff == True:\n",
        "    if input_file.lower().endswith('.lif'):\n",
        "        print('Failed to convert images using czi_to_tiff because the input file has a .lif extension.')\n",
        "    else:\n",
        "        output_folder = czi_tiff(base_path, input_file, output_folder_name=output_folder_name)\n",
        "        if output_folder:\n",
        "            print(f'Your converted images are in {output_folder}')\n",
        "        else:\n",
        "            print('Failed to convert images using czi_to_tiff')\n",
        "elif lif_to_tiff == False and czi_to_tiff == False:\n",
        "    print('No conversion method selected.')\n",
        "\n",
        "\n",
        "\n"
      ]
    }
  ],
  "metadata": {
    "colab": {
      "machine_shape": "hm",
      "provenance": []
    },
    "kernelspec": {
      "display_name": "Python 3",
      "name": "python3"
    },
    "language_info": {
      "codemirror_mode": {
        "name": "ipython",
        "version": 3
      },
      "file_extension": ".py",
      "mimetype": "text/x-python",
      "name": "python",
      "nbconvert_exporter": "python",
      "pygments_lexer": "ipython3",
      "version": "3.6.4"
    },
    "widgets": {
      "application/vnd.jupyter.widget-state+json": {
        "91808184e5a94f7c856149c36524ccdd": {
          "model_module": "@jupyter-widgets/controls",
          "model_name": "TextModel",
          "model_module_version": "1.5.0",
          "state": {
            "_dom_classes": [],
            "_model_module": "@jupyter-widgets/controls",
            "_model_module_version": "1.5.0",
            "_model_name": "TextModel",
            "_view_count": null,
            "_view_module": "@jupyter-widgets/controls",
            "_view_module_version": "1.5.0",
            "_view_name": "TextView",
            "continuous_update": true,
            "description": "Enter output folder name:",
            "description_tooltip": null,
            "disabled": false,
            "layout": "IPY_MODEL_a40d2ddd2b314b2eb901497f4a0ab95f",
            "placeholder": "​",
            "style": "IPY_MODEL_a166b7c18b534160b45623aa5c99581d",
            "value": "train_up"
          }
        },
        "a40d2ddd2b314b2eb901497f4a0ab95f": {
          "model_module": "@jupyter-widgets/base",
          "model_name": "LayoutModel",
          "model_module_version": "1.2.0",
          "state": {
            "_model_module": "@jupyter-widgets/base",
            "_model_module_version": "1.2.0",
            "_model_name": "LayoutModel",
            "_view_count": null,
            "_view_module": "@jupyter-widgets/base",
            "_view_module_version": "1.2.0",
            "_view_name": "LayoutView",
            "align_content": null,
            "align_items": null,
            "align_self": null,
            "border": null,
            "bottom": null,
            "display": null,
            "flex": null,
            "flex_flow": null,
            "grid_area": null,
            "grid_auto_columns": null,
            "grid_auto_flow": null,
            "grid_auto_rows": null,
            "grid_column": null,
            "grid_gap": null,
            "grid_row": null,
            "grid_template_areas": null,
            "grid_template_columns": null,
            "grid_template_rows": null,
            "height": null,
            "justify_content": null,
            "justify_items": null,
            "left": null,
            "margin": null,
            "max_height": null,
            "max_width": null,
            "min_height": null,
            "min_width": null,
            "object_fit": null,
            "object_position": null,
            "order": null,
            "overflow": null,
            "overflow_x": null,
            "overflow_y": null,
            "padding": null,
            "right": null,
            "top": null,
            "visibility": null,
            "width": "600px"
          }
        },
        "a166b7c18b534160b45623aa5c99581d": {
          "model_module": "@jupyter-widgets/controls",
          "model_name": "DescriptionStyleModel",
          "model_module_version": "1.5.0",
          "state": {
            "_model_module": "@jupyter-widgets/controls",
            "_model_module_version": "1.5.0",
            "_model_name": "DescriptionStyleModel",
            "_view_count": null,
            "_view_module": "@jupyter-widgets/base",
            "_view_module_version": "1.2.0",
            "_view_name": "StyleView",
            "description_width": "150px"
          }
        },
        "3f690c213ab94231b903f9432c9f328b": {
          "model_module": "@jupyter-widgets/controls",
          "model_name": "ButtonModel",
          "model_module_version": "1.5.0",
          "state": {
            "_dom_classes": [],
            "_model_module": "@jupyter-widgets/controls",
            "_model_module_version": "1.5.0",
            "_model_name": "ButtonModel",
            "_view_count": null,
            "_view_module": "@jupyter-widgets/controls",
            "_view_module_version": "1.5.0",
            "_view_name": "ButtonView",
            "button_style": "",
            "description": "Check Folder Name",
            "disabled": false,
            "icon": "",
            "layout": "IPY_MODEL_3945d60d87a7485c9db4d559f8dd2bd2",
            "style": "IPY_MODEL_542b5d9e906e4031a3edbd3059a18c9b",
            "tooltip": ""
          }
        },
        "3945d60d87a7485c9db4d559f8dd2bd2": {
          "model_module": "@jupyter-widgets/base",
          "model_name": "LayoutModel",
          "model_module_version": "1.2.0",
          "state": {
            "_model_module": "@jupyter-widgets/base",
            "_model_module_version": "1.2.0",
            "_model_name": "LayoutModel",
            "_view_count": null,
            "_view_module": "@jupyter-widgets/base",
            "_view_module_version": "1.2.0",
            "_view_name": "LayoutView",
            "align_content": null,
            "align_items": null,
            "align_self": null,
            "border": null,
            "bottom": null,
            "display": null,
            "flex": null,
            "flex_flow": null,
            "grid_area": null,
            "grid_auto_columns": null,
            "grid_auto_flow": null,
            "grid_auto_rows": null,
            "grid_column": null,
            "grid_gap": null,
            "grid_row": null,
            "grid_template_areas": null,
            "grid_template_columns": null,
            "grid_template_rows": null,
            "height": null,
            "justify_content": null,
            "justify_items": null,
            "left": null,
            "margin": null,
            "max_height": null,
            "max_width": null,
            "min_height": null,
            "min_width": null,
            "object_fit": null,
            "object_position": null,
            "order": null,
            "overflow": null,
            "overflow_x": null,
            "overflow_y": null,
            "padding": null,
            "right": null,
            "top": null,
            "visibility": null,
            "width": null
          }
        },
        "542b5d9e906e4031a3edbd3059a18c9b": {
          "model_module": "@jupyter-widgets/controls",
          "model_name": "ButtonStyleModel",
          "model_module_version": "1.5.0",
          "state": {
            "_model_module": "@jupyter-widgets/controls",
            "_model_module_version": "1.5.0",
            "_model_name": "ButtonStyleModel",
            "_view_count": null,
            "_view_module": "@jupyter-widgets/base",
            "_view_module_version": "1.2.0",
            "_view_name": "StyleView",
            "button_color": null,
            "font_weight": ""
          }
        }
      }
    }
  },
  "nbformat": 4,
  "nbformat_minor": 0
}