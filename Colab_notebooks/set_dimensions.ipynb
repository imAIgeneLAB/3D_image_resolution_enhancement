{
  "cells": [
    {
      "cell_type": "markdown",
      "metadata": {
        "id": "V9zNGvape2-I"
      },
      "source": [
        "# **Rescaling and Dimension Adjustment of 3D Images**\n",
        "\n",
        "---\n",
        "\n",
        "<font size = 4>This notebook facilitates the adjustment of x- and y-axis dimensions in 3D images to the desired ones, calculates the new pixel spacing, and applies linear pixel interpolation to generate the rescaled images."
      ]
    },
    {
      "cell_type": "markdown",
      "metadata": {
        "id": "n4yWFoJNnoin"
      },
      "source": [
        "## **1. Dependencies**\n",
        "---\n"
      ]
    },
    {
      "cell_type": "markdown",
      "metadata": {
        "id": "ohimRYp7UOv-"
      },
      "source": [
        "### **1.1. Install dependencies**\n",
        "---\n",
        "<font size = 4>"
      ]
    },
    {
      "cell_type": "code",
      "source": [
        "#@markdown ##Install dependencies\n",
        "! pip install -q readlif\n",
        "! pip install -q SimpleITK\n",
        "! pip install -q aicsimageio"
      ],
      "metadata": {
        "id": "E77RFww0Io8C",
        "cellView": "form",
        "colab": {
          "base_uri": "https://localhost:8080/"
        },
        "outputId": "edee765a-7722-48d5-8a42-dc41473cfc26"
      },
      "execution_count": 1,
      "outputs": [
        {
          "output_type": "stream",
          "name": "stdout",
          "text": [
            "\u001b[2K     \u001b[90m━━━━━━━━━━━━━━━━━━━━━━━━━━━━━━━━━━━━━━━━\u001b[0m \u001b[32m52.7/52.7 MB\u001b[0m \u001b[31m24.0 MB/s\u001b[0m eta \u001b[36m0:00:00\u001b[0m\n",
            "\u001b[2K     \u001b[90m━━━━━━━━━━━━━━━━━━━━━━━━━━━━━━━━━━━━━━━━\u001b[0m \u001b[32m138.7/138.7 kB\u001b[0m \u001b[31m1.4 MB/s\u001b[0m eta \u001b[36m0:00:00\u001b[0m\n",
            "\u001b[2K     \u001b[90m━━━━━━━━━━━━━━━━━━━━━━━━━━━━━━━━━━━━━━━━\u001b[0m \u001b[32m39.6/39.6 MB\u001b[0m \u001b[31m14.8 MB/s\u001b[0m eta \u001b[36m0:00:00\u001b[0m\n",
            "\u001b[2K     \u001b[90m━━━━━━━━━━━━━━━━━━━━━━━━━━━━━━━━━━━━━━━━\u001b[0m \u001b[32m248.4/248.4 kB\u001b[0m \u001b[31m16.8 MB/s\u001b[0m eta \u001b[36m0:00:00\u001b[0m\n",
            "\u001b[2K     \u001b[90m━━━━━━━━━━━━━━━━━━━━━━━━━━━━━━━━━━━━━━━━\u001b[0m \u001b[32m216.4/216.4 kB\u001b[0m \u001b[31m16.3 MB/s\u001b[0m eta \u001b[36m0:00:00\u001b[0m\n",
            "\u001b[2K     \u001b[90m━━━━━━━━━━━━━━━━━━━━━━━━━━━━━━━━━━━━━━━━\u001b[0m \u001b[32m405.2/405.2 kB\u001b[0m \u001b[31m26.0 MB/s\u001b[0m eta \u001b[36m0:00:00\u001b[0m\n",
            "\u001b[2K     \u001b[90m━━━━━━━━━━━━━━━━━━━━━━━━━━━━━━━━━━━━━━━━\u001b[0m \u001b[32m206.1/206.1 kB\u001b[0m \u001b[31m14.5 MB/s\u001b[0m eta \u001b[36m0:00:00\u001b[0m\n",
            "\u001b[2K     \u001b[90m━━━━━━━━━━━━━━━━━━━━━━━━━━━━━━━━━━━━━━━━\u001b[0m \u001b[32m195.1/195.1 kB\u001b[0m \u001b[31m17.6 MB/s\u001b[0m eta \u001b[36m0:00:00\u001b[0m\n",
            "\u001b[?25h  Preparing metadata (setup.py) ... \u001b[?25l\u001b[?25hdone\n",
            "\u001b[2K     \u001b[90m━━━━━━━━━━━━━━━━━━━━━━━━━━━━━━━━━━━━━━━━\u001b[0m \u001b[32m7.7/7.7 MB\u001b[0m \u001b[31m48.5 MB/s\u001b[0m eta \u001b[36m0:00:00\u001b[0m\n",
            "\u001b[2K     \u001b[90m━━━━━━━━━━━━━━━━━━━━━━━━━━━━━━━━━━━━━━━━\u001b[0m \u001b[32m216.4/216.4 kB\u001b[0m \u001b[31m20.6 MB/s\u001b[0m eta \u001b[36m0:00:00\u001b[0m\n",
            "\u001b[2K     \u001b[90m━━━━━━━━━━━━━━━━━━━━━━━━━━━━━━━━━━━━━━━━\u001b[0m \u001b[32m76.1/76.1 kB\u001b[0m \u001b[31m202.0 kB/s\u001b[0m eta \u001b[36m0:00:00\u001b[0m\n",
            "\u001b[2K     \u001b[90m━━━━━━━━━━━━━━━━━━━━━━━━━━━━━━━━━━━━━━━━\u001b[0m \u001b[32m73.5/73.5 kB\u001b[0m \u001b[31m8.6 MB/s\u001b[0m eta \u001b[36m0:00:00\u001b[0m\n",
            "\u001b[2K     \u001b[90m━━━━━━━━━━━━━━━━━━━━━━━━━━━━━━━━━━━━━━━━\u001b[0m \u001b[32m73.4/73.4 kB\u001b[0m \u001b[31m8.0 MB/s\u001b[0m eta \u001b[36m0:00:00\u001b[0m\n",
            "\u001b[2K     \u001b[90m━━━━━━━━━━━━━━━━━━━━━━━━━━━━━━━━━━━━━━━━\u001b[0m \u001b[32m11.1/11.1 MB\u001b[0m \u001b[31m43.1 MB/s\u001b[0m eta \u001b[36m0:00:00\u001b[0m\n",
            "\u001b[2K     \u001b[90m━━━━━━━━━━━━━━━━━━━━━━━━━━━━━━━━━━━━━━━━\u001b[0m \u001b[32m143.8/143.8 kB\u001b[0m \u001b[31m15.3 MB/s\u001b[0m eta \u001b[36m0:00:00\u001b[0m\n",
            "\u001b[?25h  Building wheel for asciitree (setup.py) ... \u001b[?25l\u001b[?25hdone\n"
          ]
        }
      ]
    },
    {
      "cell_type": "markdown",
      "metadata": {
        "id": "GV9Saw1JUVVP"
      },
      "source": [
        "### **1.2. Load key dependencies**\n",
        "---\n",
        "<font size = 4>"
      ]
    },
    {
      "cell_type": "code",
      "source": [
        "#@markdown ##Load dependencies\n",
        "\n",
        "from readlif.reader import LifFile\n",
        "import numpy as np\n",
        "import tifffile as tf\n",
        "import os\n",
        "import SimpleITK as sitk\n",
        "from aicsimageio import AICSImage\n",
        "import shutil\n",
        "from skimage import io, img_as_uint\n",
        "from skimage.util import random_noise\n",
        "import xml.etree.ElementTree as ET\n",
        "import ipywidgets as widgets\n",
        "from IPython.display import display"
      ],
      "metadata": {
        "id": "gx9eFbcuIXYh",
        "cellView": "form"
      },
      "execution_count": 3,
      "outputs": []
    },
    {
      "cell_type": "markdown",
      "metadata": {
        "id": "b4-r1gE7Iamv"
      },
      "source": [
        "## **2. Initialise the Colab session**\n",
        "---"
      ]
    },
    {
      "cell_type": "markdown",
      "metadata": {
        "id": "-oqBTeLaImnU"
      },
      "source": [
        "### **2.1. Mount your Google Drive**\n",
        "---\n",
        "<font size = 4> To use this notebook on the data present in your Google Drive, you need to mount your Google Drive to this notebook.\n",
        "\n",
        "<font size = 4> Play the cell below to mount your Google Drive and follow the link. In the new browser window, select your drive and select 'Allow', copy the code, paste into the cell and press enter. This will give Colab access to the data on the drive.\n",
        "\n",
        "<font size = 4> Once this is done, your data are available in the **Files** tab on the top left of notebook."
      ]
    },
    {
      "cell_type": "code",
      "execution_count": 4,
      "metadata": {
        "cellView": "form",
        "id": "01Djr8v-5pPk",
        "colab": {
          "base_uri": "https://localhost:8080/"
        },
        "outputId": "9b20df5f-346b-4e6b-896e-1ebd3a81357d"
      },
      "outputs": [
        {
          "output_type": "stream",
          "name": "stdout",
          "text": [
            "Mounted at /content/gdrive\n"
          ]
        }
      ],
      "source": [
        "#@markdown ##Play the cell to connect your Google Drive to Colab\n",
        "\n",
        "#@markdown * Follow the instructions.\n",
        "\n",
        "#@markdown * Click on \"Files\" site on the right. Refresh the site. Your Google Drive folder should now be available here as \"drive\".\n",
        "\n",
        "# mount user's Google Drive to Google Colab.\n",
        "from google.colab import drive\n",
        "drive.mount('/content/gdrive')"
      ]
    },
    {
      "cell_type": "markdown",
      "metadata": {
        "id": "DvuiNvCbbeKN"
      },
      "source": [
        "**<font size = 4> If you cannot see your files, reactivate your session by connecting to your hosted runtime.**\n",
        "\n",
        "\n",
        "<img width=\"40%\" alt =\"Example of image detection with retinanet.\" src=\"https://github.com/HenriquesLab/ZeroCostDL4Mic/raw/master/Wiki_files/connect_to_hosted.png\"><figcaption> Connect to a hosted runtime. </figcaption>"
      ]
    },
    {
      "cell_type": "markdown",
      "metadata": {
        "id": "Fw0kkTU6CsU4"
      },
      "source": [
        "## **3. Select your paths**\n",
        "\n",
        "---\n"
      ]
    },
    {
      "cell_type": "markdown",
      "metadata": {
        "id": "CB6acvUFtWqd"
      },
      "source": [
        "<font size = 5> **Paths for folder of input images**\n",
        "\n",
        "<font size = 4>**`base_path`:** this is the path where the folder with your  images is located in your google drive and where the output will be saved.\n",
        "\n",
        "<font size = 4>**`images_folder`:** this is the folder path of your images.\n",
        "\n",
        "\n",
        "\n",
        "\n",
        " To find the path of the folder containing the respective images, go to your Files on the left of the notebook, navigate to the folder containing your files and copy the path by right-clicking on the folder, **Copy path** and pasting it into the right box below."
      ]
    },
    {
      "cell_type": "code",
      "execution_count": 5,
      "metadata": {
        "id": "ewpNJ_I0Mv47",
        "cellView": "form",
        "colab": {
          "base_uri": "https://localhost:8080/",
          "height": 100,
          "referenced_widgets": [
            "46639d41bf7e490fb82adcdc5c2fe3cf",
            "6abbd9d5de6046d588b61b6bd6f35a45",
            "2bc61a6079f348e49eccf38f0114c123",
            "c56a87ea779646619ad69805f7a17ff4",
            "11ae3d94df6f4a0fb51e750a45ec88a7",
            "0dd0a4d1e4dc486c9cc88d3e2312e37a"
          ]
        },
        "outputId": "2577451f-0c46-4cfb-b58a-d4d1f0322529"
      },
      "outputs": [
        {
          "output_type": "display_data",
          "data": {
            "text/plain": [
              "Text(value='', description='Enter output folder name:', layout=Layout(width='600px'), style=DescriptionStyle(d…"
            ],
            "application/vnd.jupyter.widget-view+json": {
              "version_major": 2,
              "version_minor": 0,
              "model_id": "46639d41bf7e490fb82adcdc5c2fe3cf"
            }
          },
          "metadata": {}
        },
        {
          "output_type": "display_data",
          "data": {
            "text/plain": [
              "Button(description='Check Folder Name', style=ButtonStyle())"
            ],
            "application/vnd.jupyter.widget-view+json": {
              "version_major": 2,
              "version_minor": 0,
              "model_id": "c56a87ea779646619ad69805f7a17ff4"
            }
          },
          "metadata": {}
        },
        {
          "output_type": "stream",
          "name": "stdout",
          "text": [
            "Folder name is available: rescaled_imgs\n"
          ]
        }
      ],
      "source": [
        "#@markdown ###Path of the original images:\n",
        "\n",
        "# base folder where the GT image is\n",
        "base_path = \"/content/gdrive/MyDrive/Colab Notebooks/res\" #@param {type:\"string\"}\n",
        "\n",
        "# image file name\n",
        "images_folder = \"/content/gdrive/MyDrive/Colab Notebooks/res/train_up\" #@param {type:\"string\"}\n",
        "\n",
        "output_folder_name = widgets.Text(value='', description='Enter output folder name:')\n",
        "output_folder_name.style.description_width = '150px'\n",
        "output_folder_name.layout.width = '600px'\n",
        "\n",
        "def check_output_folder(base_path, folder_name):\n",
        "    return folder_name in os.listdir(base_path)\n",
        "\n",
        "def on_button_clicked(b):\n",
        "    new_folder_name = output_folder_name.value.strip()\n",
        "    if new_folder_name:\n",
        "        if check_output_folder(base_path, new_folder_name):\n",
        "            print('This folder already exists. Please choose another name.')\n",
        "            output_folder_name.value = ''\n",
        "        else:\n",
        "            print('Folder name is available:', new_folder_name)\n",
        "    else:\n",
        "        print('Please provide a name for the output folder.')\n",
        "\n",
        "button = widgets.Button(description='Check Folder Name')\n",
        "button.on_click(on_button_clicked)\n",
        "\n",
        "display(output_folder_name, button)"
      ]
    },
    {
      "cell_type": "markdown",
      "metadata": {
        "id": "xGcl7WGP4WHt"
      },
      "source": [
        "# **4. Image rescaling**\n",
        "---"
      ]
    },
    {
      "cell_type": "markdown",
      "source": [
        "<font size = 4>**`rescaling_factor`:** this numerical value acts as a multiplier for the original x and y dimensions of the images, allowing for upscaling or downscaling. For instance, applying a factor of 10 will increase the size, while a facotr of 0.1 will decrease it. It is important to note that after multiplication, only the non-decimal portion determines the new dimensions (no rounding occurs). For example, if the initial x and y dimensions are both 2048, and the rescaling factor is set to 0.1, the resulting dimensions will be 204. Prior to this step, understanding the precise pixel dimensions of your images is crucial to accurately select the required rescaling factor.\n"
      ],
      "metadata": {
        "id": "pvPOn07n2gpZ"
      }
    },
    {
      "cell_type": "code",
      "execution_count": 7,
      "metadata": {
        "id": "htqjkJWt5J_8",
        "colab": {
          "base_uri": "https://localhost:8080/"
        },
        "cellView": "form",
        "outputId": "ac4f1f6a-0fa9-4e00-d3de-62288bcc944c"
      },
      "outputs": [
        {
          "output_type": "stream",
          "name": "stdout",
          "text": [
            "Your rescaled images are in /content/gdrive/MyDrive/Colab Notebooks/res/rescaled_imgs\n"
          ]
        }
      ],
      "source": [
        "#@markdown ##Image rescaling\n",
        "\n",
        "def tiff_imgs_pairs(base_path, images_folder, factor_xy, output_folder_name):\n",
        "    ''' rescale .tiff imgs'''\n",
        "\n",
        "\n",
        "    # paths\n",
        "    output_folder = os.path.join(base_path, output_folder_name.value)\n",
        "    if output_folder_name not in os.listdir(base_path):\n",
        "        os.makedirs(output_folder)\n",
        "\n",
        "    file_list = os.listdir(images_folder)\n",
        "\n",
        "    for file_name in file_list:\n",
        "        if file_name.endswith('.tiff'):\n",
        "            input_image_path = os.path.join(images_folder, file_name)\n",
        "            output_image_path = os.path.join(output_folder, file_name)\n",
        "\n",
        "            # read img\n",
        "            img = sitk.ReadImage(input_image_path)\n",
        "\n",
        "            # original dimensions [X, Y, Z]\n",
        "            original_size = img.GetSize()\n",
        "\n",
        "            # calculate new dimensions [X, Y]\n",
        "            new_size = [int(sz * factor_xy) if idx != 2 else sz for idx, sz in enumerate(original_size)]\n",
        "\n",
        "            # calculate scale factor for new spacing\n",
        "            scale_factor = [old_size / new_size_val for old_size, new_size_val in zip(original_size, new_size)]\n",
        "\n",
        "            # calculate new spacing\n",
        "            new_spacing = [sz * scale_factor_val for sz, scale_factor_val in zip(img.GetSpacing(), scale_factor)]\n",
        "\n",
        "            # apply resolution rescaling\n",
        "            resampler = sitk.ResampleImageFilter()\n",
        "            resampler.SetOutputSpacing(new_spacing)\n",
        "            resampler.SetSize(new_size)\n",
        "            resampler.SetOutputDirection(img.GetDirection())\n",
        "            resampler.SetOutputOrigin(img.GetOrigin())\n",
        "            resampler.SetTransform(sitk.Transform())\n",
        "            resampler.SetDefaultPixelValue(img.GetPixelIDValue())\n",
        "\n",
        "            # execute resampling\n",
        "            output_image = resampler.Execute(img)\n",
        "\n",
        "            # save images\n",
        "            sitk.WriteImage(output_image, output_image_path)\n",
        "\n",
        "    return output_folder\n",
        "\n",
        "\n",
        "# rescaling factor\n",
        "rescaling_factor=0.1#@param{type:\"number\"}\n",
        "if rescaling_factor is None:\n",
        "  print('Please enter a value')\n",
        "else:\n",
        "  output_folder =tiff_imgs_pairs(base_path, images_folder, rescaling_factor, output_folder_name=output_folder_name)\n",
        "  if output_folder:\n",
        "              print(f'Your rescaled images are in {output_folder}')\n"
      ]
    }
  ],
  "metadata": {
    "colab": {
      "machine_shape": "hm",
      "provenance": []
    },
    "kernelspec": {
      "display_name": "Python 3",
      "name": "python3"
    },
    "language_info": {
      "codemirror_mode": {
        "name": "ipython",
        "version": 3
      },
      "file_extension": ".py",
      "mimetype": "text/x-python",
      "name": "python",
      "nbconvert_exporter": "python",
      "pygments_lexer": "ipython3",
      "version": "3.6.4"
    },
    "widgets": {
      "application/vnd.jupyter.widget-state+json": {
        "46639d41bf7e490fb82adcdc5c2fe3cf": {
          "model_module": "@jupyter-widgets/controls",
          "model_name": "TextModel",
          "model_module_version": "1.5.0",
          "state": {
            "_dom_classes": [],
            "_model_module": "@jupyter-widgets/controls",
            "_model_module_version": "1.5.0",
            "_model_name": "TextModel",
            "_view_count": null,
            "_view_module": "@jupyter-widgets/controls",
            "_view_module_version": "1.5.0",
            "_view_name": "TextView",
            "continuous_update": true,
            "description": "Enter output folder name:",
            "description_tooltip": null,
            "disabled": false,
            "layout": "IPY_MODEL_6abbd9d5de6046d588b61b6bd6f35a45",
            "placeholder": "​",
            "style": "IPY_MODEL_2bc61a6079f348e49eccf38f0114c123",
            "value": "rescaled_imgs"
          }
        },
        "6abbd9d5de6046d588b61b6bd6f35a45": {
          "model_module": "@jupyter-widgets/base",
          "model_name": "LayoutModel",
          "model_module_version": "1.2.0",
          "state": {
            "_model_module": "@jupyter-widgets/base",
            "_model_module_version": "1.2.0",
            "_model_name": "LayoutModel",
            "_view_count": null,
            "_view_module": "@jupyter-widgets/base",
            "_view_module_version": "1.2.0",
            "_view_name": "LayoutView",
            "align_content": null,
            "align_items": null,
            "align_self": null,
            "border": null,
            "bottom": null,
            "display": null,
            "flex": null,
            "flex_flow": null,
            "grid_area": null,
            "grid_auto_columns": null,
            "grid_auto_flow": null,
            "grid_auto_rows": null,
            "grid_column": null,
            "grid_gap": null,
            "grid_row": null,
            "grid_template_areas": null,
            "grid_template_columns": null,
            "grid_template_rows": null,
            "height": null,
            "justify_content": null,
            "justify_items": null,
            "left": null,
            "margin": null,
            "max_height": null,
            "max_width": null,
            "min_height": null,
            "min_width": null,
            "object_fit": null,
            "object_position": null,
            "order": null,
            "overflow": null,
            "overflow_x": null,
            "overflow_y": null,
            "padding": null,
            "right": null,
            "top": null,
            "visibility": null,
            "width": "600px"
          }
        },
        "2bc61a6079f348e49eccf38f0114c123": {
          "model_module": "@jupyter-widgets/controls",
          "model_name": "DescriptionStyleModel",
          "model_module_version": "1.5.0",
          "state": {
            "_model_module": "@jupyter-widgets/controls",
            "_model_module_version": "1.5.0",
            "_model_name": "DescriptionStyleModel",
            "_view_count": null,
            "_view_module": "@jupyter-widgets/base",
            "_view_module_version": "1.2.0",
            "_view_name": "StyleView",
            "description_width": "150px"
          }
        },
        "c56a87ea779646619ad69805f7a17ff4": {
          "model_module": "@jupyter-widgets/controls",
          "model_name": "ButtonModel",
          "model_module_version": "1.5.0",
          "state": {
            "_dom_classes": [],
            "_model_module": "@jupyter-widgets/controls",
            "_model_module_version": "1.5.0",
            "_model_name": "ButtonModel",
            "_view_count": null,
            "_view_module": "@jupyter-widgets/controls",
            "_view_module_version": "1.5.0",
            "_view_name": "ButtonView",
            "button_style": "",
            "description": "Check Folder Name",
            "disabled": false,
            "icon": "",
            "layout": "IPY_MODEL_11ae3d94df6f4a0fb51e750a45ec88a7",
            "style": "IPY_MODEL_0dd0a4d1e4dc486c9cc88d3e2312e37a",
            "tooltip": ""
          }
        },
        "11ae3d94df6f4a0fb51e750a45ec88a7": {
          "model_module": "@jupyter-widgets/base",
          "model_name": "LayoutModel",
          "model_module_version": "1.2.0",
          "state": {
            "_model_module": "@jupyter-widgets/base",
            "_model_module_version": "1.2.0",
            "_model_name": "LayoutModel",
            "_view_count": null,
            "_view_module": "@jupyter-widgets/base",
            "_view_module_version": "1.2.0",
            "_view_name": "LayoutView",
            "align_content": null,
            "align_items": null,
            "align_self": null,
            "border": null,
            "bottom": null,
            "display": null,
            "flex": null,
            "flex_flow": null,
            "grid_area": null,
            "grid_auto_columns": null,
            "grid_auto_flow": null,
            "grid_auto_rows": null,
            "grid_column": null,
            "grid_gap": null,
            "grid_row": null,
            "grid_template_areas": null,
            "grid_template_columns": null,
            "grid_template_rows": null,
            "height": null,
            "justify_content": null,
            "justify_items": null,
            "left": null,
            "margin": null,
            "max_height": null,
            "max_width": null,
            "min_height": null,
            "min_width": null,
            "object_fit": null,
            "object_position": null,
            "order": null,
            "overflow": null,
            "overflow_x": null,
            "overflow_y": null,
            "padding": null,
            "right": null,
            "top": null,
            "visibility": null,
            "width": null
          }
        },
        "0dd0a4d1e4dc486c9cc88d3e2312e37a": {
          "model_module": "@jupyter-widgets/controls",
          "model_name": "ButtonStyleModel",
          "model_module_version": "1.5.0",
          "state": {
            "_model_module": "@jupyter-widgets/controls",
            "_model_module_version": "1.5.0",
            "_model_name": "ButtonStyleModel",
            "_view_count": null,
            "_view_module": "@jupyter-widgets/base",
            "_view_module_version": "1.2.0",
            "_view_name": "StyleView",
            "button_color": null,
            "font_weight": ""
          }
        }
      }
    }
  },
  "nbformat": 4,
  "nbformat_minor": 0
}